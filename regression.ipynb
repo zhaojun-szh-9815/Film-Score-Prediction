{
 "cells": [
  {
   "cell_type": "code",
   "execution_count": 1,
   "metadata": {},
   "outputs": [],
   "source": [
    "import pandas as pd\n",
    "import seaborn as sns\n",
    "import matplotlib.pyplot as plt\n",
    "from sklearn.model_selection import train_test_split\n",
    "from sklearn.linear_model import LogisticRegression\n",
    "from sklearn.metrics import accuracy_score, confusion_matrix, mean_squared_error\n",
    "from sklearn.utils import shuffle"
   ]
  },
  {
   "cell_type": "code",
   "execution_count": null,
   "metadata": {},
   "outputs": [],
   "source": [
    "X_train = pd.read_csv(\"./data/X_train_text.csv\")\n",
    "X_submission = pd.read_csv(\"./data/X_test_text.csv\")"
   ]
  },
  {
   "cell_type": "code",
   "execution_count": null,
   "metadata": {},
   "outputs": [
    {
     "data": {
      "text/plain": [
       "array(['Id', 'HelpfulnessNumerator', 'HelpfulnessDenominator', 'Score',\n",
       "       'Time', 'bad', 'best', 'better', 'but', 'enjoy', 'fan', 'good',\n",
       "       'great', 'interest', 'like', 'love', 'no', 'not', 'well',\n",
       "       'ProductCode', 'UserCode'], dtype=object)"
      ]
     },
     "execution_count": 3,
     "metadata": {},
     "output_type": "execute_result"
    }
   ],
   "source": [
    "X_train = X_train.drop(columns=['ProductId', 'UserId', 'Summary', 'Text', 'about', 'act', 'actor', 'after', 'again', 'all', 'also', 'an',\n",
    "       'ani', 'are', 'as', 'at', 'back', 'be', 'becaus', 'been', 'befor', 'by', 'can', 'cast', 'charact',\n",
    "       'come', 'could', 'did', 'do', 'doe', 'don', 'dvd', 'end', 'even', 'ever', 'feel', 'film', 'find', 'first', 'for',\n",
    "       'from', 'get', 'give', 'go', 'had', 'has', 'have', 'he', 'her', 'here', 'high', 'him', 'his', 'how', 'if', 'in','into', 'is', 'it',\n",
    "       'just', 'know', 'life', 'littl', 'look', 'lot', 'made', 'make', 'man', 'mani', 'me', 'more', 'most', 'movi', 'much', 'my', 'never',\n",
    "       'new', 'now', 'of', 'off', 'on', 'one', 'onli', 'or', 'other', 'out', 'over', 'own', 'old', 'perform',\n",
    "       'play', 'part', 'peopl', 'plot', 'realli', 'say', 'scene', 'see', 'seem', 'seen', 'seri', 'set', 'she', 'show', 'so', 'some', 'star', 'still', 'stori',\n",
    "       'take', 'than', 'that', 'their', 'them', 'then', 'there', 'these',\n",
    "       'they', 'thing', 'think', 'this', 'those', 'time', 'to', 'too', 'tri', 'two', 'up', 'use', 'veri', 'want', 'was', 'watch', 'way',\n",
    "       'we', 'were', 'what', 'when', 'where', 'which', 'while', 'who', 'will', 'with', 'work', 'would', 'year', 'you', 'your'])\n",
    "X_submission = X_submission.drop(columns=['ProductId', 'UserId', 'Score', 'Summary', 'Text', 'about', 'act', 'actor', 'after', 'again', 'all', 'also', 'an',\n",
    "       'ani', 'are', 'as', 'at', 'back', 'be', 'becaus', 'been', 'befor', 'by', 'can', 'cast', 'charact',\n",
    "       'come', 'could', 'did', 'do', 'doe', 'don', 'dvd', 'end', 'even', 'ever', 'feel', 'film', 'find', 'first', 'for',\n",
    "       'from', 'get', 'give', 'go', 'had', 'has', 'have', 'he', 'her', 'here', 'high', 'him', 'his', 'how', 'if', 'in','into', 'is', 'it',\n",
    "       'just', 'know', 'life', 'littl', 'look', 'lot', 'made', 'make', 'man', 'mani', 'me', 'more', 'most', 'movi', 'much', 'my', 'never',\n",
    "       'new', 'now', 'of', 'off', 'on', 'one', 'onli', 'or', 'other', 'out', 'over', 'own', 'old', 'perform',\n",
    "       'play', 'part', 'peopl', 'plot', 'realli', 'say', 'scene', 'see', 'seem', 'seen', 'seri', 'set', 'she', 'show', 'so', 'some', 'star', 'still', 'stori',\n",
    "       'take', 'than', 'that', 'their', 'them', 'then', 'there', 'these',\n",
    "       'they', 'thing', 'think', 'this', 'those', 'time', 'to', 'too', 'tri', 'two', 'up', 'use', 'veri', 'want', 'was', 'watch', 'way',\n",
    "       'we', 'were', 'what', 'when', 'where', 'which', 'while', 'who', 'will', 'with', 'work', 'would', 'year', 'you', 'your'])\n",
    "X_train.columns.values"
   ]
  },
  {
   "cell_type": "code",
   "execution_count": null,
   "metadata": {},
   "outputs": [],
   "source": [
    "X_train, X_test, Y_train, Y_test = train_test_split(\n",
    "        X_train.drop(['Score'], axis=1),\n",
    "        X_train['Score'],\n",
    "        test_size=0.2,\n",
    "        random_state=0\n",
    "    )"
   ]
  },
  {
   "cell_type": "code",
   "execution_count": null,
   "metadata": {},
   "outputs": [],
   "source": [
    "X_train_processed = X_train.drop(columns=['Id'])\n",
    "X_test_processed = X_test.drop(columns=['Id'])\n",
    "X_submission_processed = X_submission.drop(columns=['Id'])"
   ]
  },
  {
   "cell_type": "code",
   "execution_count": null,
   "metadata": {},
   "outputs": [
    {
     "data": {
      "text/plain": [
       "LogisticRegression(class_weight='balanced', n_jobs=4)"
      ]
     },
     "execution_count": 7,
     "metadata": {},
     "output_type": "execute_result"
    }
   ],
   "source": [
    "model = LogisticRegression(class_weight='balanced', n_jobs=4)\n",
    "model.fit(X_train_processed, Y_train)"
   ]
  },
  {
   "cell_type": "code",
   "execution_count": null,
   "metadata": {},
   "outputs": [
    {
     "name": "stdout",
     "output_type": "stream",
     "text": [
      "Accuracy on testing set =  0.4769469100952749\n",
      "MAE =  1.7703241779275654\n"
     ]
    },
    {
     "data": {
      "image/png": "[encoded data removed]",
      "text/plain": [
       "<Figure size 432x288 with 2 Axes>"
      ]
     },
     "metadata": {
      "needs_background": "light"
     },
     "output_type": "display_data"
    }
   ],
   "source": [
    "Y_test_predictions = model.predict(X_test_processed)\n",
    "\n",
    "print(\"Accuracy on testing set = \", accuracy_score(Y_test, Y_test_predictions))\n",
    "print(\"MAE = \", mean_squared_error(Y_test, Y_test_predictions))\n",
    "\n",
    "cm = confusion_matrix(Y_test, Y_test_predictions, normalize='true')\n",
    "sns.heatmap(cm, annot=True)\n",
    "plt.title('Confusion matrix of the classifier')\n",
    "plt.xlabel('Predicted')\n",
    "plt.ylabel('True')\n",
    "plt.show()"
   ]
  },
  {
   "cell_type": "code",
   "execution_count": null,
   "metadata": {},
   "outputs": [],
   "source": [
    "model = LogisticRegression(class_weight='balanced', n_jobs=4)\n",
    "model.fit(pd.concat([X_train_processed, X_test_processed], ignore_index=True), pd.concat([Y_train, Y_test], ignore_index=True))\n",
    "X_submission['Score'] = model.predict(X_submission_processed)"
   ]
  },
  {
   "cell_type": "code",
   "execution_count": null,
   "metadata": {},
   "outputs": [],
   "source": [
    "submission = X_submission[['Id', 'Score']]\n",
    "submission.to_csv(\"./data/submission.csv\", index=False)"
   ]
  }
 ],
 "metadata": {
  "kernelspec": {
   "display_name": "Python 3.7.8 64-bit",
   "language": "python",
   "name": "python3"
  },
  "language_info": {
   "codemirror_mode": {
    "name": "ipython",
    "version": 3
   },
   "file_extension": ".py",
   "mimetype": "text/x-python",
   "name": "python",
   "nbconvert_exporter": "python",
   "pygments_lexer": "ipython3",
   "version": "3.7.8"
  },
  "orig_nbformat": 4,
  "vscode": {
   "interpreter": {
    "hash": "7fba1db2ae0bf2a01e825a4782efeb28dbb746a1b089c66234dc73062bb30ad6"
   }
  }
 },
 "nbformat": 4,
 "nbformat_minor": 2
}
