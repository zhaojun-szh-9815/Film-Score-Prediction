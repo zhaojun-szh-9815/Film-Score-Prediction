{
 "cells": [
  {
   "cell_type": "code",
   "execution_count": 5,
   "metadata": {},
   "outputs": [],
   "source": [
    "import pandas as pd\n",
    "import seaborn as sns\n",
    "import matplotlib.pyplot as plt\n",
    "from sklearn.model_selection import train_test_split\n",
    "from sklearn.linear_model import LogisticRegression\n",
    "from sklearn.metrics import accuracy_score, confusion_matrix, mean_squared_error\n",
    "from sklearn.utils import shuffle"
   ]
  },
  {
   "cell_type": "code",
   "execution_count": 6,
   "metadata": {},
   "outputs": [],
   "source": [
    "X_train = pd.read_csv(\"./data/X_train_text.csv\")\n",
    "X_submission = pd.read_csv(\"./data/X_test_text.csv\")"
   ]
  },
  {
   "cell_type": "code",
   "execution_count": 7,
   "metadata": {},
   "outputs": [
    {
     "data": {
      "text/plain": [
       "array(['Id', 'HelpfulnessNumerator', 'HelpfulnessDenominator', 'Score',\n",
       "       'Time', 'bad', 'best', 'better', 'but', 'enjoy', 'fan', 'good',\n",
       "       'great', 'interest', 'like', 'love', 'no', 'not', 'well',\n",
       "       'ProductCode', 'UserCode'], dtype=object)"
      ]
     },
     "execution_count": 7,
     "metadata": {},
     "output_type": "execute_result"
    }
   ],
   "source": [
    "X_train = X_train.drop(columns=['ProductId', 'UserId', 'Summary', 'Text', 'about', 'act', 'actor', 'after', 'again', 'all', 'also', 'an',\n",
    "       'ani', 'are', 'as', 'at', 'back', 'be', 'becaus', 'been', 'befor', 'by', 'can', 'cast', 'charact',\n",
    "       'come', 'could', 'did', 'do', 'doe', 'don', 'dvd', 'end', 'even', 'ever', 'feel', 'film', 'find', 'first', 'for',\n",
    "       'from', 'get', 'give', 'go', 'had', 'has', 'have', 'he', 'her', 'here', 'high', 'him', 'his', 'how', 'if', 'in','into', 'is', 'it',\n",
    "       'just', 'know', 'life', 'littl', 'look', 'lot', 'made', 'make', 'man', 'mani', 'me', 'more', 'most', 'movi', 'much', 'my', 'never',\n",
    "       'new', 'now', 'of', 'off', 'on', 'one', 'onli', 'or', 'other', 'out', 'over', 'own', 'old', 'perform',\n",
    "       'play', 'part', 'peopl', 'plot', 'realli', 'say', 'scene', 'see', 'seem', 'seen', 'seri', 'set', 'she', 'show', 'so', 'some', 'star', 'still', 'stori',\n",
    "       'take', 'than', 'that', 'their', 'them', 'then', 'there', 'these',\n",
    "       'they', 'thing', 'think', 'this', 'those', 'time', 'to', 'too', 'tri', 'two', 'up', 'use', 'veri', 'want', 'was', 'watch', 'way',\n",
    "       'we', 'were', 'what', 'when', 'where', 'which', 'while', 'who', 'will', 'with', 'work', 'would', 'year', 'you', 'your'])\n",
    "X_submission = X_submission.drop(columns=['ProductId', 'UserId', 'Score', 'Summary', 'Text', 'about', 'act', 'actor', 'after', 'again', 'all', 'also', 'an',\n",
    "       'ani', 'are', 'as', 'at', 'back', 'be', 'becaus', 'been', 'befor', 'by', 'can', 'cast', 'charact',\n",
    "       'come', 'could', 'did', 'do', 'doe', 'don', 'dvd', 'end', 'even', 'ever', 'feel', 'film', 'find', 'first', 'for',\n",
    "       'from', 'get', 'give', 'go', 'had', 'has', 'have', 'he', 'her', 'here', 'high', 'him', 'his', 'how', 'if', 'in','into', 'is', 'it',\n",
    "       'just', 'know', 'life', 'littl', 'look', 'lot', 'made', 'make', 'man', 'mani', 'me', 'more', 'most', 'movi', 'much', 'my', 'never',\n",
    "       'new', 'now', 'of', 'off', 'on', 'one', 'onli', 'or', 'other', 'out', 'over', 'own', 'old', 'perform',\n",
    "       'play', 'part', 'peopl', 'plot', 'realli', 'say', 'scene', 'see', 'seem', 'seen', 'seri', 'set', 'she', 'show', 'so', 'some', 'star', 'still', 'stori',\n",
    "       'take', 'than', 'that', 'their', 'them', 'then', 'there', 'these',\n",
    "       'they', 'thing', 'think', 'this', 'those', 'time', 'to', 'too', 'tri', 'two', 'up', 'use', 'veri', 'want', 'was', 'watch', 'way',\n",
    "       'we', 'were', 'what', 'when', 'where', 'which', 'while', 'who', 'will', 'with', 'work', 'would', 'year', 'you', 'your'])\n",
    "X_train.columns.values"
   ]
  },
  {
   "cell_type": "code",
   "execution_count": 8,
   "metadata": {},
   "outputs": [],
   "source": [
    "score_1 = X_train[X_train['Score'] == 1]\n",
    "score_2 = X_train[X_train['Score'] == 2]\n",
    "score_3 = X_train[X_train['Score'] == 3]\n",
    "score_4 = X_train[X_train['Score'] == 4]\n",
    "score_5 = X_train[X_train['Score'] == 5]\n",
    "X_train_split = [score_1, score_2, score_3, score_4, score_5]"
   ]
  },
  {
   "cell_type": "code",
   "execution_count": 9,
   "metadata": {},
   "outputs": [],
   "source": [
    "X_train, X_test_, Y_train, Y_test_ = train_test_split(\n",
    "        X_train.drop(['Score'], axis=1),\n",
    "        X_train['Score'],\n",
    "        test_size=0.2,\n",
    "        random_state=0\n",
    "    )"
   ]
  },
  {
   "cell_type": "code",
   "execution_count": 10,
   "metadata": {},
   "outputs": [
    {
     "data": {
      "text/plain": [
       "LogisticRegression(n_jobs=4)"
      ]
     },
     "execution_count": 10,
     "metadata": {},
     "output_type": "execute_result"
    }
   ],
   "source": [
    "X_train_processed = X_train.drop(columns=['Id'])\n",
    "X_test_processed = X_test_.drop(columns=['Id'])\n",
    "model = LogisticRegression(n_jobs=4)\n",
    "model.fit(X_train_processed, Y_train)"
   ]
  },
  {
   "cell_type": "code",
   "execution_count": 11,
   "metadata": {},
   "outputs": [
    {
     "name": "stdout",
     "output_type": "stream",
     "text": [
      "Accuracy on testing set =  0.5638034110058067\n",
      "MAE =  1.6062495751448085\n"
     ]
    }
   ],
   "source": [
    "accuracy = []\n",
    "mse = []\n",
    "Y_test_predictions = model.predict(X_test_processed)\n",
    "score = accuracy_score(Y_test_, Y_test_predictions)\n",
    "error = mean_squared_error(Y_test_, Y_test_predictions)\n",
    "accuracy.append(score)\n",
    "mse.append(error)\n",
    "print(\"Accuracy on testing set = \", score)\n",
    "print(\"MAE = \", error)"
   ]
  },
  {
   "cell_type": "code",
   "execution_count": 12,
   "metadata": {},
   "outputs": [
    {
     "name": "stdout",
     "output_type": "stream",
     "text": [
      "Accuracy on testing set =  0.7447293114524324\n",
      "MAE =  0.2552706885475676\n",
      "Accuracy on testing set =  0.5998691799964322\n",
      "MAE =  1.6005232800142712\n",
      "Accuracy on testing set =  0.6068244558084808\n",
      "MAE =  3.538579897723673\n",
      "Accuracy on testing set =  0.662351962609419\n",
      "MAE =  5.402368598249297\n",
      "Accuracy on testing set =  0.7287514065262819\n",
      "MAE =  6.781214836842952\n"
     ]
    }
   ],
   "source": [
    "models = [LogisticRegression(n_jobs=4) for _ in range(5)]\n",
    "for i in range(5):\n",
    "    sample_num = (int)(len(X_train_split[i])/4)\n",
    "    X_train = X_train_split[i].copy()\n",
    "    for index in range(5):\n",
    "        if not index == i:\n",
    "            X_concat = X_train_split[index].sample(sample_num, replace=True)\n",
    "            X_concat['Score'] = [0 for _ in range(len(X_concat))]\n",
    "            X_train = pd.concat([X_train, X_concat], ignore_index=True)\n",
    "    X_train = shuffle(X_train)\n",
    "    X_train, X_test, Y_train, Y_test = train_test_split(\n",
    "        X_train.drop(['Score'], axis=1),\n",
    "        X_train['Score'],\n",
    "        test_size=0.2,\n",
    "        random_state=0\n",
    "    )\n",
    "    X_train_processed = X_train.drop(columns=['Id'])\n",
    "    X_test_processed = X_test.drop(columns=['Id'])\n",
    "    models[i].fit(X_train_processed, Y_train)\n",
    "    Y_test_predictions = models[i].predict(X_test_processed)\n",
    "    score = accuracy_score(Y_test, Y_test_predictions)\n",
    "    error = mean_squared_error(Y_test, Y_test_predictions)\n",
    "    accuracy.append(score)\n",
    "    mse.append(error)\n",
    "    print(\"Accuracy on testing set = \", score)\n",
    "    print(\"MAE = \", error)"
   ]
  },
  {
   "cell_type": "code",
   "execution_count": 13,
   "metadata": {},
   "outputs": [
    {
     "data": {
      "text/plain": [
       "[0.5638034110058067,\n",
       " 0.7447293114524324,\n",
       " 0.5998691799964322,\n",
       " 0.6068244558084808,\n",
       " 0.662351962609419,\n",
       " 0.7287514065262819]"
      ]
     },
     "execution_count": 13,
     "metadata": {},
     "output_type": "execute_result"
    }
   ],
   "source": [
    "accuracy"
   ]
  },
  {
   "cell_type": "code",
   "execution_count": 14,
   "metadata": {},
   "outputs": [],
   "source": [
    "def calculate(r):\n",
    "    res = [0, 0, 0, 0, 0]\n",
    "    for i, (p, acc) in enumerate(zip(r, accuracy)):\n",
    "        p = int(p)\n",
    "        if p != 0:\n",
    "            res[p-1] += acc\n",
    "        else:\n",
    "            res = [x+acc for x in res]\n",
    "            res[i-1] -= acc\n",
    "    return res.index(max(res)) + 1"
   ]
  },
  {
   "cell_type": "code",
   "execution_count": 15,
   "metadata": {},
   "outputs": [
    {
     "name": "stdout",
     "output_type": "stream",
     "text": [
      "Accuracy on testing set =  0.534662817031416\n",
      "MAE =  1.667654119574823\n"
     ]
    },
    {
     "data": {
      "image/png": "[encoded data removed]",
      "text/plain": [
       "<Figure size 432x288 with 2 Axes>"
      ]
     },
     "metadata": {
      "needs_background": "light"
     },
     "output_type": "display_data"
    }
   ],
   "source": [
    "X_test_processed = X_test_.drop(columns=['Id'])\n",
    "\n",
    "pred = {\n",
    "    '0': model.predict(X_test_processed),\n",
    "    '1': models[0].predict(X_test_processed),\n",
    "    '2': models[1].predict(X_test_processed),\n",
    "    '3': models[2].predict(X_test_processed),\n",
    "    '4': models[3].predict(X_test_processed),\n",
    "    '5': models[4].predict(X_test_processed),\n",
    "}\n",
    "pred = pd.DataFrame(pred, columns=['0', '1', '2', '3', '4', '5'])\n",
    "pred['Score'] = pred.apply(lambda x: calculate(x), axis=1)\n",
    "Y_test_predictions = pred['Score'].to_numpy()\n",
    "print(\"Accuracy on testing set = \", accuracy_score(Y_test_, Y_test_predictions))\n",
    "print(\"MAE = \", mean_squared_error(Y_test_, Y_test_predictions))\n",
    "\n",
    "cm = confusion_matrix(Y_test_, Y_test_predictions, normalize='true')\n",
    "sns.heatmap(cm, annot=True)\n",
    "plt.title('Confusion matrix of the classifier')\n",
    "plt.xlabel('Predicted')\n",
    "plt.ylabel('True')\n",
    "plt.show()"
   ]
  },
  {
   "cell_type": "code",
   "execution_count": null,
   "metadata": {},
   "outputs": [],
   "source": [
    "X_submission_processed = X_submission.drop(columns=['Id'])\n",
    "\n",
    "pred = {\n",
    "    '0': model.predict(X_submission_processed),\n",
    "    '1': models[0].predict(X_submission_processed),\n",
    "    '2': models[1].predict(X_submission_processed),\n",
    "    '3': models[2].predict(X_submission_processed),\n",
    "    '4': models[3].predict(X_submission_processed),\n",
    "    '5': models[4].predict(X_submission_processed),\n",
    "}\n",
    "pred = pd.DataFrame(pred)\n",
    "X_submission['Score'] = pred.apply(lambda x: calculate(x), axis=1)"
   ]
  },
  {
   "cell_type": "code",
   "execution_count": null,
   "metadata": {},
   "outputs": [],
   "source": [
    "submission = X_submission[['Id', 'Score']]\n",
    "submission.to_csv(\"./data/submission.csv\", index=False)"
   ]
  }
 ],
 "metadata": {
  "kernelspec": {
   "display_name": "Python 3.7.8 64-bit",
   "language": "python",
   "name": "python3"
  },
  "language_info": {
   "codemirror_mode": {
    "name": "ipython",
    "version": 3
   },
   "file_extension": ".py",
   "mimetype": "text/x-python",
   "name": "python",
   "nbconvert_exporter": "python",
   "pygments_lexer": "ipython3",
   "version": "3.7.8"
  },
  "orig_nbformat": 4,
  "vscode": {
   "interpreter": {
    "hash": "7fba1db2ae0bf2a01e825a4782efeb28dbb746a1b089c66234dc73062bb30ad6"
   }
  }
 },
 "nbformat": 4,
 "nbformat_minor": 2
}
